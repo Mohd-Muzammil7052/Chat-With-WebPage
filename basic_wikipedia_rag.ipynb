{
 "cells": [
  {
   "cell_type": "code",
   "execution_count": 120,
   "id": "b1602bdc",
   "metadata": {},
   "outputs": [
    {
     "name": "stdout",
     "output_type": "stream",
     "text": [
      "Requirement already satisfied: wikipedia in c:\\data science\\gen ai\\langchain\\langchain models\\venv\\lib\\site-packages (1.4.0)\n",
      "Requirement already satisfied: beautifulsoup4 in c:\\data science\\gen ai\\langchain\\langchain models\\venv\\lib\\site-packages (from wikipedia) (4.13.5)\n",
      "Requirement already satisfied: requests<3.0.0,>=2.0.0 in c:\\data science\\gen ai\\langchain\\langchain models\\venv\\lib\\site-packages (from wikipedia) (2.32.4)\n",
      "Requirement already satisfied: charset_normalizer<4,>=2 in c:\\data science\\gen ai\\langchain\\langchain models\\venv\\lib\\site-packages (from requests<3.0.0,>=2.0.0->wikipedia) (3.4.3)\n",
      "Requirement already satisfied: idna<4,>=2.5 in c:\\data science\\gen ai\\langchain\\langchain models\\venv\\lib\\site-packages (from requests<3.0.0,>=2.0.0->wikipedia) (3.10)\n",
      "Requirement already satisfied: urllib3<3,>=1.21.1 in c:\\data science\\gen ai\\langchain\\langchain models\\venv\\lib\\site-packages (from requests<3.0.0,>=2.0.0->wikipedia) (2.5.0)\n",
      "Requirement already satisfied: certifi>=2017.4.17 in c:\\data science\\gen ai\\langchain\\langchain models\\venv\\lib\\site-packages (from requests<3.0.0,>=2.0.0->wikipedia) (2025.8.3)\n",
      "Requirement already satisfied: soupsieve>1.2 in c:\\data science\\gen ai\\langchain\\langchain models\\venv\\lib\\site-packages (from beautifulsoup4->wikipedia) (2.7)\n",
      "Requirement already satisfied: typing-extensions>=4.0.0 in c:\\data science\\gen ai\\langchain\\langchain models\\venv\\lib\\site-packages (from beautifulsoup4->wikipedia) (4.14.1)\n"
     ]
    },
    {
     "name": "stderr",
     "output_type": "stream",
     "text": [
      "\n",
      "[notice] A new release of pip is available: 23.2.1 -> 25.2\n",
      "[notice] To update, run: python.exe -m pip install --upgrade pip\n"
     ]
    }
   ],
   "source": [
    "! \"c:\\DATA SCIENCE\\GEN AI\\LangChain\\Langchain Models\\venv\\Scripts\\python.exe\" -m pip install wikipedia\n"
   ]
  },
  {
   "cell_type": "code",
   "execution_count": 121,
   "id": "afd23960",
   "metadata": {},
   "outputs": [],
   "source": [
    "from langchain_groq import ChatGroq\n",
    "from langchain_huggingface import HuggingFaceEmbeddings\n",
    "from dotenv import load_dotenv\n",
    "from langchain.text_splitter import RecursiveCharacterTextSplitter\n",
    "from langchain_community.vectorstores import FAISS\n",
    "import wikipedia\n",
    "from langchain_core.prompts import ChatPromptTemplate, MessagesPlaceholder\n",
    "from langchain_community.tools import TavilySearchResults\n",
    "from langchain.agents import initialize_agent, AgentType\n",
    "from langchain.tools import Tool"
   ]
  },
  {
   "cell_type": "code",
   "execution_count": 122,
   "id": "a35b1bc1",
   "metadata": {},
   "outputs": [],
   "source": [
    "load_dotenv()\n",
    "\n",
    "# Initialize LLM\n",
    "model = ChatGroq(\n",
    "    model=\"meta-llama/llama-4-scout-17b-16e-instruct\",\n",
    "    temperature=0.5,\n",
    "    max_tokens=512,\n",
    ")\n",
    "\n",
    "# Tavily search tool\n",
    "search_tool = TavilySearchResults(max_results=3)"
   ]
  },
  {
   "cell_type": "code",
   "execution_count": 123,
   "id": "5843380f",
   "metadata": {},
   "outputs": [],
   "source": [
    "# wikipedia = WikipediaAPIWrapper(lang=\"en\", top_k_results=1, doc_content_chars_max=100000, load_all_available_meta=True)\n",
    "entity = input(\"Enter the entity you want to search -- \")"
   ]
  },
  {
   "cell_type": "code",
   "execution_count": 124,
   "id": "bf78c784",
   "metadata": {},
   "outputs": [],
   "source": [
    "# Set language (optional)\n",
    "wikipedia.set_lang(\"en\")\n",
    "\n",
    "# Get the full page object\n",
    "page = wikipedia.page(entity, auto_suggest=False)\n",
    "\n",
    "# Full article content\n",
    "full_text = page.content"
   ]
  },
  {
   "cell_type": "code",
   "execution_count": 125,
   "id": "ba2dea2d",
   "metadata": {},
   "outputs": [],
   "source": [
    "splitter = RecursiveCharacterTextSplitter(\n",
    "    chunk_size = 300,\n",
    "    chunk_overlap = 50,\n",
    ")\n",
    "\n",
    "docs = splitter.create_documents([full_text])"
   ]
  },
  {
   "cell_type": "code",
   "execution_count": 126,
   "id": "736e6635",
   "metadata": {},
   "outputs": [],
   "source": [
    "# Initialize embeddings\n",
    "embeddings = HuggingFaceEmbeddings(model_name=\"BAAI/bge-small-en-v1.5\")\n",
    "\n",
    "# Create FAISS vector store from documents\n",
    "vector_store = FAISS.from_documents(docs, embedding=embeddings)\n",
    "\n",
    "# Save FAISS index locally\n",
    "# vector_store.save_local(\"my_faiss_db\")\n",
    "\n",
    "# Load FAISS index back\n",
    "vector_store = FAISS.load_local(\"my_faiss_db\", embeddings, allow_dangerous_deserialization=True)"
   ]
  },
  {
   "cell_type": "code",
   "execution_count": 127,
   "id": "fe7598a5",
   "metadata": {},
   "outputs": [],
   "source": [
    "retriever = vector_store.as_retriever(\n",
    "    search_type=\"mmr\",                   # <-- This enables MMR\n",
    "    search_kwargs={\"k\": 3, \"lambda_mult\": 0.5}  # k = top results, lambda_mult = relevance-diversity balance\n",
    ")"
   ]
  },
  {
   "cell_type": "code",
   "execution_count": 128,
   "id": "a63a0379",
   "metadata": {},
   "outputs": [],
   "source": [
    "# Wrap retriever into a Tool\n",
    "wiki_tool = Tool(\n",
    "    name=\"Wikipedia RAG\",\n",
    "    func=lambda q: \"\\n\".join([doc.page_content for doc in retriever.invoke(q)]),\n",
    "    description=f\"Use this to answer questions about {entity} from Wikipedia.\"\n",
    ")"
   ]
  },
  {
   "cell_type": "code",
   "execution_count": 129,
   "id": "1f1a8600",
   "metadata": {},
   "outputs": [],
   "source": [
    "# Hybrid Agent: Wikipedia RAG + Tavily Search\n",
    "agent = initialize_agent(\n",
    "    tools=[wiki_tool, search_tool],\n",
    "    llm=model,\n",
    "    agent=AgentType.ZERO_SHOT_REACT_DESCRIPTION,\n",
    "    verbose=False\n",
    ")"
   ]
  },
  {
   "cell_type": "code",
   "execution_count": 130,
   "id": "3d9ce9a9",
   "metadata": {},
   "outputs": [
    {
     "name": "stdout",
     "output_type": "stream",
     "text": [
      "You: When was VK born\n",
      "AI: Virat Kohli was born on November 5, 1988.\n",
      "You: How many test matches he played\n",
      "AI: 123 test matches.\n",
      "Thank you, see you soon \n"
     ]
    }
   ],
   "source": [
    "# Maintain chat history\n",
    "messages = []\n",
    "\n",
    "# Chat loop\n",
    "while True:\n",
    "    query = input(\"You: \")\n",
    "    if query.lower() == \"exit\":\n",
    "        print(\"Thank you, see you soon \")\n",
    "        break\n",
    "    print(f'You: {query}')\n",
    "    # Append user message\n",
    "    messages.append({\"role\": \"user\", \"content\": query})\n",
    "\n",
    "    # Pass conversation history as context\n",
    "    history_context = \"\\n\".join(\n",
    "        [f\"{m['role'].capitalize()}: {m['content']}\" for m in messages]\n",
    "    )\n",
    "\n",
    "    # Ask agent\n",
    "    ans = agent.invoke(history_context)\n",
    "\n",
    "    # Extract answer\n",
    "    response = ans[\"output\"]\n",
    "\n",
    "    # Append AI message\n",
    "    messages.append({\"role\": \"assistant\", \"content\": response})\n",
    "\n",
    "    print(f\"AI: {response}\")"
   ]
  },
  {
   "cell_type": "code",
   "execution_count": null,
   "id": "4a14ce1a",
   "metadata": {},
   "outputs": [],
   "source": []
  }
 ],
 "metadata": {
  "kernelspec": {
   "display_name": "Python 3",
   "language": "python",
   "name": "python3"
  },
  "language_info": {
   "codemirror_mode": {
    "name": "ipython",
    "version": 3
   },
   "file_extension": ".py",
   "mimetype": "text/x-python",
   "name": "python",
   "nbconvert_exporter": "python",
   "pygments_lexer": "ipython3",
   "version": "3.11.5"
  }
 },
 "nbformat": 4,
 "nbformat_minor": 5
}
